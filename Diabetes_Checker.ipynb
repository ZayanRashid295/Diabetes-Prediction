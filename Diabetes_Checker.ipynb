{
 "cells": [
  {
   "cell_type": "code",
   "execution_count": 1,
   "id": "e3885199-fc65-45ad-a8b9-d80fb9e20ef2",
   "metadata": {},
   "outputs": [
    {
     "name": "stdout",
     "output_type": "stream",
     "text": [
      "Accuracy: 0.97065\n",
      "F1-score: 0.8009494743981012\n",
      "Predicted diabetes for new data: 1\n"
     ]
    }
   ],
   "source": [
    "import numpy as np\n",
    "import pandas as pd\n",
    "import matplotlib.pyplot as plt # Corrected import statement for matplotlib\n",
    "from sklearn.model_selection import train_test_split\n",
    "from sklearn.preprocessing import LabelEncoder, StandardScaler\n",
    "from sklearn.ensemble import RandomForestClassifier\n",
    "\n",
    "# Read the dataset\n",
    "dataset = pd.read_csv('E:\\\\Desktop\\\\diabetes_prediction_dataset.csv')\n",
    "\n",
    "# Extract features (X) and target variable (y)\n",
    "X = dataset.drop(columns=['diabetes'])\n",
    "y = dataset['diabetes']\n",
    "\n",
    "# Encode categorical features\n",
    "categorical_features = [\"gender\", \"hypertension\", \"heart_disease\", \"smoking_history\"]\n",
    "for feature in categorical_features:\n",
    "    X[feature] = LabelEncoder().fit_transform(X[feature])\n",
    "\n",
    "# Scale numerical features\n",
    "numerical_features = [\"age\", \"bmi\", \"HbA1c_level\", \"blood_glucose_level\"]\n",
    "scaler = StandardScaler()\n",
    "X[numerical_features] = scaler.fit_transform(X[numerical_features])\n",
    "\n",
    "# Split the dataset into training and testing sets\n",
    "X_train, X_test, y_train, y_test = train_test_split(X, y, test_size=0.2, random_state=42)\n",
    "\n",
    "# Initialize and train the model\n",
    "model = RandomForestClassifier(n_estimators=100, random_state=42)\n",
    "model.fit(X_train, y_train)\n",
    "\n",
    "# Make predictions on the testing set\n",
    "y_pred = model.predict(X_test)\n",
    "\n",
    "# Evaluate the model\n",
    "from sklearn.metrics import accuracy_score, f1_score\n",
    "print(\"Accuracy:\", accuracy_score(y_test, y_pred))\n",
    "print(\"F1-score:\", f1_score(y_test, y_pred))\n",
    "\n",
    "# Predict diabetes for new data\n",
    "new_data = pd.DataFrame({\n",
    "    \"gender\": [\"Female\"],\n",
    "    \"age\": [50],\n",
    "    \"hypertension\": [1],\n",
    "    \"heart_disease\": [0],\n",
    "    \"smoking_history\": [\"never\"],\n",
    "    \"bmi\": [25],\n",
    "    \"HbA1c_level\": [6.0],\n",
    "    \"blood_glucose_level\": [120]\n",
    "})\n",
    "\n",
    "# Encode categorical features for new data\n",
    "for feature in categorical_features:\n",
    "    new_data[feature] = LabelEncoder().fit_transform(new_data[feature])\n",
    "\n",
    "# Make prediction for new data\n",
    "new_prediction = model.predict(new_data)\n",
    "print(\"Predicted diabetes for new data:\", new_prediction[0])\n"
   ]
  },
  {
   "cell_type": "code",
   "execution_count": null,
   "id": "ce00d90d-069d-4ab2-8614-24c4ad4eb0c2",
   "metadata": {},
   "outputs": [],
   "source": []
  }
 ],
 "metadata": {
  "kernelspec": {
   "display_name": "Python 3 (ipykernel)",
   "language": "python",
   "name": "python3"
  },
  "language_info": {
   "codemirror_mode": {
    "name": "ipython",
    "version": 3
   },
   "file_extension": ".py",
   "mimetype": "text/x-python",
   "name": "python",
   "nbconvert_exporter": "python",
   "pygments_lexer": "ipython3",
   "version": "3.11.4"
  }
 },
 "nbformat": 4,
 "nbformat_minor": 5
}
